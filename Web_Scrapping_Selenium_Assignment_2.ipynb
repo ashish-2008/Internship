{
 "cells": [
  {
   "cell_type": "code",
   "execution_count": 1,
   "id": "1ded0f47",
   "metadata": {
    "collapsed": true
   },
   "outputs": [
    {
     "name": "stdout",
     "output_type": "stream",
     "text": [
      "Requirement already satisfied: selenium in c:\\programdata\\anaconda3\\lib\\site-packages (4.1.0)\n",
      "Requirement already satisfied: trio~=0.17 in c:\\programdata\\anaconda3\\lib\\site-packages (from selenium) (0.19.0)\n",
      "Requirement already satisfied: urllib3[secure]~=1.26 in c:\\programdata\\anaconda3\\lib\\site-packages (from selenium) (1.26.4)\n",
      "Requirement already satisfied: trio-websocket~=0.9 in c:\\programdata\\anaconda3\\lib\\site-packages (from selenium) (0.9.2)\n",
      "Requirement already satisfied: sniffio in c:\\programdata\\anaconda3\\lib\\site-packages (from trio~=0.17->selenium) (1.2.0)\n",
      "Requirement already satisfied: idna in c:\\programdata\\anaconda3\\lib\\site-packages (from trio~=0.17->selenium) (2.10)\n",
      "Requirement already satisfied: attrs>=19.2.0 in c:\\programdata\\anaconda3\\lib\\site-packages (from trio~=0.17->selenium) (20.3.0)\n",
      "Requirement already satisfied: cffi>=1.14 in c:\\programdata\\anaconda3\\lib\\site-packages (from trio~=0.17->selenium) (1.14.5)\n",
      "Requirement already satisfied: sortedcontainers in c:\\programdata\\anaconda3\\lib\\site-packages (from trio~=0.17->selenium) (2.3.0)\n",
      "Requirement already satisfied: async-generator>=1.9 in c:\\programdata\\anaconda3\\lib\\site-packages (from trio~=0.17->selenium) (1.10)\n",
      "Requirement already satisfied: outcome in c:\\programdata\\anaconda3\\lib\\site-packages (from trio~=0.17->selenium) (1.1.0)\n",
      "Requirement already satisfied: pycparser in c:\\programdata\\anaconda3\\lib\\site-packages (from cffi>=1.14->trio~=0.17->selenium) (2.20)\n",
      "Requirement already satisfied: wsproto>=0.14 in c:\\programdata\\anaconda3\\lib\\site-packages (from trio-websocket~=0.9->selenium) (1.0.0)\n",
      "Requirement already satisfied: pyOpenSSL>=0.14 in c:\\programdata\\anaconda3\\lib\\site-packages (from urllib3[secure]~=1.26->selenium) (20.0.1)\n",
      "Requirement already satisfied: certifi in c:\\programdata\\anaconda3\\lib\\site-packages (from urllib3[secure]~=1.26->selenium) (2020.12.5)\n",
      "Requirement already satisfied: cryptography>=1.3.4 in c:\\programdata\\anaconda3\\lib\\site-packages (from urllib3[secure]~=1.26->selenium) (3.4.7)\n",
      "Requirement already satisfied: six>=1.5.2 in c:\\programdata\\anaconda3\\lib\\site-packages (from pyOpenSSL>=0.14->urllib3[secure]~=1.26->selenium) (1.15.0)\n",
      "Requirement already satisfied: h11<1,>=0.9.0 in c:\\programdata\\anaconda3\\lib\\site-packages (from wsproto>=0.14->trio-websocket~=0.9->selenium) (0.12.0)\n"
     ]
    }
   ],
   "source": [
    "# Installing selenium\n",
    "\n",
    "!pip install selenium"
   ]
  },
  {
   "cell_type": "code",
   "execution_count": 4,
   "id": "b9314029",
   "metadata": {},
   "outputs": [],
   "source": [
    "Q.1.scrape first 10 jobs data on naukri.com\n",
    "\n",
    "# Importing all required libraries\n",
    "\n",
    "\n",
    "import selenium\n",
    "from selenium import webdriver\n",
    "import pandas as pd\n",
    "import warnings\n",
    "warnings.filterwarnings('ignore')"
   ]
  },
  {
   "cell_type": "code",
   "execution_count": 5,
   "id": "0f794f95",
   "metadata": {},
   "outputs": [],
   "source": [
    "# Connecting to web driver\n",
    "\n",
    "driver=webdriver.Chrome('chromedriver.exe')"
   ]
  },
  {
   "cell_type": "code",
   "execution_count": 10,
   "id": "38492bb8",
   "metadata": {},
   "outputs": [],
   "source": [
    "url=\"https://www.naukri.com/\"\n",
    "driver.get(url)"
   ]
  },
  {
   "cell_type": "code",
   "execution_count": 11,
   "id": "54b43cc8",
   "metadata": {},
   "outputs": [],
   "source": [
    "# finding web element for search job by absolute path\n",
    "\n",
    "search_job=driver.find_element_by_xpath('/html/body/div/div[2]/div[3]/div/div/div[1]/div/div/div/input')"
   ]
  },
  {
   "cell_type": "code",
   "execution_count": 12,
   "id": "7026b9ec",
   "metadata": {},
   "outputs": [],
   "source": [
    "# sending value to search job element\n",
    "\n",
    "search_job.send_keys('Data Analyst')"
   ]
  },
  {
   "cell_type": "code",
   "execution_count": 13,
   "id": "ae706f81",
   "metadata": {},
   "outputs": [],
   "source": [
    "# finding web element for search location by absolute path\n",
    "\n",
    "\n",
    "search_loc=driver.find_element_by_xpath('/html/body/div/div[2]/div[3]/div/div/div[3]/div/div/div/input')"
   ]
  },
  {
   "cell_type": "code",
   "execution_count": 14,
   "id": "93d6b75f",
   "metadata": {},
   "outputs": [],
   "source": [
    "# sending value to search location element\n",
    "\n",
    "search_loc.send_keys('Bangalore')"
   ]
  },
  {
   "cell_type": "code",
   "execution_count": 15,
   "id": "a9a0aa60",
   "metadata": {},
   "outputs": [],
   "source": [
    "# finding web element for search button\n",
    "\n",
    "search_btn=driver.find_element_by_xpath('/html/body/div/div[2]/div[3]/div/div/div[6]')"
   ]
  },
  {
   "cell_type": "code",
   "execution_count": 16,
   "id": "9fac928d",
   "metadata": {},
   "outputs": [],
   "source": [
    "# clicking search button\n",
    "\n",
    "search_btn.click()"
   ]
  },
  {
   "cell_type": "code",
   "execution_count": 20,
   "id": "e46bf8f7",
   "metadata": {},
   "outputs": [
    {
     "data": {
      "text/plain": [
       "['Hiring For Business Data Analyst - Bangalore',\n",
       " 'Junior Data Analyst/ Scientist- Fresher Position',\n",
       " 'Assistant Clinical Data Analyst']"
      ]
     },
     "execution_count": 20,
     "metadata": {},
     "output_type": "execute_result"
    }
   ],
   "source": [
    "# Extracting job titles \n",
    "\n",
    "title_tags=driver.find_elements_by_xpath('//a[@class=\"title fw500 ellipsis\"]')\n",
    "\n",
    "job_title=[]\n",
    "for i in title_tags:\n",
    "    job_title.append(i.text)\n",
    "job_title[0:3]"
   ]
  },
  {
   "cell_type": "code",
   "execution_count": 21,
   "id": "b25f5b0c",
   "metadata": {},
   "outputs": [
    {
     "data": {
      "text/plain": [
       "['Bangalore/Bengaluru',\n",
       " 'Kolkata, Gurgaon/Gurugram, Bangalore/Bengaluru\\n(WFH during Covid)',\n",
       " 'Bangalore/Bengaluru']"
      ]
     },
     "execution_count": 21,
     "metadata": {},
     "output_type": "execute_result"
    }
   ],
   "source": [
    "# Extracting job locations\n",
    "\n",
    "loc_tags=driver.find_elements_by_xpath('//li[@class=\"fleft grey-text br2 placeHolderLi location\"]')\n",
    "\n",
    "job_loc=[]\n",
    "for i in loc_tags:\n",
    "    job_loc.append(i.text)\n",
    "job_loc[0:3]"
   ]
  },
  {
   "cell_type": "code",
   "execution_count": 22,
   "id": "703e4389",
   "metadata": {},
   "outputs": [
    {
     "data": {
      "text/plain": [
       "['Synechron',\n",
       " 'Sejal Consulting Hub',\n",
       " 'Labcorp Drug Development India Private Limited']"
      ]
     },
     "execution_count": 22,
     "metadata": {},
     "output_type": "execute_result"
    }
   ],
   "source": [
    "# Extracting company names\n",
    "\n",
    "company_tags=driver.find_elements_by_xpath('//a[@class=\"subTitle ellipsis fleft\"]')\n",
    "\n",
    "com_name=[]\n",
    "for i in company_tags:\n",
    "    com_name.append(i.text)\n",
    "com_name[0:3]"
   ]
  },
  {
   "cell_type": "code",
   "execution_count": 23,
   "id": "882e54f9",
   "metadata": {},
   "outputs": [
    {
     "data": {
      "text/plain": [
       "['Synechron',\n",
       " 'Sejal Consulting Hub',\n",
       " 'Labcorp Drug Development India Private Limited']"
      ]
     },
     "execution_count": 23,
     "metadata": {},
     "output_type": "execute_result"
    }
   ],
   "source": [
    "# Extracting experiences\n",
    "\n",
    "exp_tags=driver.find_elements_by_xpath('//a[@class=\"subTitle ellipsis fleft\"]')\n",
    "\n",
    "exp=[]\n",
    "for i in exp_tags:\n",
    "    exp.append(i.text)\n",
    "exp[0:3]"
   ]
  },
  {
   "cell_type": "code",
   "execution_count": 26,
   "id": "67322dac",
   "metadata": {
    "scrolled": true
   },
   "outputs": [
    {
     "data": {
      "text/html": [
       "<div>\n",
       "<style scoped>\n",
       "    .dataframe tbody tr th:only-of-type {\n",
       "        vertical-align: middle;\n",
       "    }\n",
       "\n",
       "    .dataframe tbody tr th {\n",
       "        vertical-align: top;\n",
       "    }\n",
       "\n",
       "    .dataframe thead th {\n",
       "        text-align: right;\n",
       "    }\n",
       "</style>\n",
       "<table border=\"1\" class=\"dataframe\">\n",
       "  <thead>\n",
       "    <tr style=\"text-align: right;\">\n",
       "      <th></th>\n",
       "      <th>JobTitles</th>\n",
       "      <th>Company Name</th>\n",
       "      <th>JobLocation</th>\n",
       "      <th>Experience</th>\n",
       "    </tr>\n",
       "  </thead>\n",
       "  <tbody>\n",
       "    <tr>\n",
       "      <th>0</th>\n",
       "      <td>Hiring For Business Data Analyst - Bangalore</td>\n",
       "      <td>Synechron</td>\n",
       "      <td>Bangalore/Bengaluru</td>\n",
       "      <td>Synechron</td>\n",
       "    </tr>\n",
       "    <tr>\n",
       "      <th>1</th>\n",
       "      <td>Junior Data Analyst/ Scientist- Fresher Position</td>\n",
       "      <td>Sejal Consulting Hub</td>\n",
       "      <td>Kolkata, Gurgaon/Gurugram, Bangalore/Bengaluru...</td>\n",
       "      <td>Sejal Consulting Hub</td>\n",
       "    </tr>\n",
       "    <tr>\n",
       "      <th>2</th>\n",
       "      <td>Assistant Clinical Data Analyst</td>\n",
       "      <td>Labcorp Drug Development India Private Limited</td>\n",
       "      <td>Bangalore/Bengaluru</td>\n",
       "      <td>Labcorp Drug Development India Private Limited</td>\n",
       "    </tr>\n",
       "    <tr>\n",
       "      <th>3</th>\n",
       "      <td>Senior Data Analyst - CRM</td>\n",
       "      <td>Gojek Tech</td>\n",
       "      <td>Bangalore/Bengaluru</td>\n",
       "      <td>Gojek Tech</td>\n",
       "    </tr>\n",
       "    <tr>\n",
       "      <th>4</th>\n",
       "      <td>Lead - Data Analyst / Scientist</td>\n",
       "      <td>Axim Technologies</td>\n",
       "      <td>Bangalore/Bengaluru</td>\n",
       "      <td>Axim Technologies</td>\n",
       "    </tr>\n",
       "    <tr>\n",
       "      <th>5</th>\n",
       "      <td>Hiring For Data Analyst</td>\n",
       "      <td>Flipkart</td>\n",
       "      <td>Bangalore/Bengaluru</td>\n",
       "      <td>Flipkart</td>\n",
       "    </tr>\n",
       "    <tr>\n",
       "      <th>6</th>\n",
       "      <td>Senior Data Analyst</td>\n",
       "      <td>Walmart</td>\n",
       "      <td>Bangalore/Bengaluru</td>\n",
       "      <td>Walmart</td>\n",
       "    </tr>\n",
       "    <tr>\n",
       "      <th>7</th>\n",
       "      <td>Senior Data Analyst</td>\n",
       "      <td>SMEDC SERVICES PRIVATE LIMITED</td>\n",
       "      <td>Bangalore/Bengaluru\\n(WFH during Covid)</td>\n",
       "      <td>SMEDC SERVICES PRIVATE LIMITED</td>\n",
       "    </tr>\n",
       "    <tr>\n",
       "      <th>8</th>\n",
       "      <td>Senior Data Analyst - CRM</td>\n",
       "      <td>GO-JEK India</td>\n",
       "      <td>Bangalore/Bengaluru</td>\n",
       "      <td>GO-JEK India</td>\n",
       "    </tr>\n",
       "    <tr>\n",
       "      <th>9</th>\n",
       "      <td>Data Analyst</td>\n",
       "      <td>Verizon</td>\n",
       "      <td>Hyderabad/Secunderabad, Chennai, Bangalore/Ben...</td>\n",
       "      <td>Verizon</td>\n",
       "    </tr>\n",
       "  </tbody>\n",
       "</table>\n",
       "</div>"
      ],
      "text/plain": [
       "                                          JobTitles  \\\n",
       "0      Hiring For Business Data Analyst - Bangalore   \n",
       "1  Junior Data Analyst/ Scientist- Fresher Position   \n",
       "2                   Assistant Clinical Data Analyst   \n",
       "3                         Senior Data Analyst - CRM   \n",
       "4                   Lead - Data Analyst / Scientist   \n",
       "5                           Hiring For Data Analyst   \n",
       "6                               Senior Data Analyst   \n",
       "7                               Senior Data Analyst   \n",
       "8                         Senior Data Analyst - CRM   \n",
       "9                                      Data Analyst   \n",
       "\n",
       "                                     Company Name  \\\n",
       "0                                       Synechron   \n",
       "1                            Sejal Consulting Hub   \n",
       "2  Labcorp Drug Development India Private Limited   \n",
       "3                                      Gojek Tech   \n",
       "4                               Axim Technologies   \n",
       "5                                        Flipkart   \n",
       "6                                         Walmart   \n",
       "7                  SMEDC SERVICES PRIVATE LIMITED   \n",
       "8                                    GO-JEK India   \n",
       "9                                         Verizon   \n",
       "\n",
       "                                         JobLocation  \\\n",
       "0                                Bangalore/Bengaluru   \n",
       "1  Kolkata, Gurgaon/Gurugram, Bangalore/Bengaluru...   \n",
       "2                                Bangalore/Bengaluru   \n",
       "3                                Bangalore/Bengaluru   \n",
       "4                                Bangalore/Bengaluru   \n",
       "5                                Bangalore/Bengaluru   \n",
       "6                                Bangalore/Bengaluru   \n",
       "7            Bangalore/Bengaluru\\n(WFH during Covid)   \n",
       "8                                Bangalore/Bengaluru   \n",
       "9  Hyderabad/Secunderabad, Chennai, Bangalore/Ben...   \n",
       "\n",
       "                                       Experience  \n",
       "0                                       Synechron  \n",
       "1                            Sejal Consulting Hub  \n",
       "2  Labcorp Drug Development India Private Limited  \n",
       "3                                      Gojek Tech  \n",
       "4                               Axim Technologies  \n",
       "5                                        Flipkart  \n",
       "6                                         Walmart  \n",
       "7                  SMEDC SERVICES PRIVATE LIMITED  \n",
       "8                                    GO-JEK India  \n",
       "9                                         Verizon  "
      ]
     },
     "execution_count": 26,
     "metadata": {},
     "output_type": "execute_result"
    }
   ],
   "source": [
    "# Displaying extracted information for job titles ,location , experience , company name\n",
    "\n",
    "job=pd.DataFrame({'JobTitles':job_title[0:10],'Company Name':com_name[0:10],'JobLocation':job_loc[0:10],'Experience':exp[0:10]})\n",
    "job"
   ]
  },
  {
   "cell_type": "code",
   "execution_count": null,
   "id": "450e5665",
   "metadata": {},
   "outputs": [],
   "source": [
    "# Q.2 ) same as Q.1"
   ]
  },
  {
   "cell_type": "code",
   "execution_count": 1,
   "id": "b20375c9",
   "metadata": {},
   "outputs": [],
   "source": [
    "# Q.3)\n",
    "# Importing all required libraries\n",
    "\n",
    "\n",
    "import selenium\n",
    "from selenium import webdriver\n",
    "import pandas as pd\n",
    "import warnings\n",
    "warnings.filterwarnings('ignore')"
   ]
  },
  {
   "cell_type": "code",
   "execution_count": 31,
   "id": "dce324e9",
   "metadata": {},
   "outputs": [],
   "source": [
    "# Connecting to web driver\n",
    "\n",
    "driver=webdriver.Chrome('chromedriver.exe')"
   ]
  },
  {
   "cell_type": "code",
   "execution_count": 6,
   "id": "f979f19d",
   "metadata": {},
   "outputs": [],
   "source": [
    "url=\"https://www.naukri.com/\"\n",
    "driver.get(url)"
   ]
  },
  {
   "cell_type": "code",
   "execution_count": 7,
   "id": "92fcc9d7",
   "metadata": {},
   "outputs": [],
   "source": [
    "# finding web element for search job by absolute path\n",
    "\n",
    "search_job=driver.find_element_by_xpath('/html/body/div/div[2]/div[3]/div/div/div[1]/div/div/div/input')"
   ]
  },
  {
   "cell_type": "code",
   "execution_count": 8,
   "id": "38eac2a6",
   "metadata": {},
   "outputs": [],
   "source": [
    "# sending value to search job element\n",
    "\n",
    "search_job.send_keys('Data Scientist')"
   ]
  },
  {
   "cell_type": "code",
   "execution_count": 12,
   "id": "18808e8c",
   "metadata": {},
   "outputs": [],
   "source": [
    "# finding web element for search button\n",
    "\n",
    "search_btn=driver.find_element_by_xpath('/html/body/div/div[2]/div[3]/div/div/div[6]')"
   ]
  },
  {
   "cell_type": "code",
   "execution_count": 13,
   "id": "4a45b083",
   "metadata": {},
   "outputs": [],
   "source": [
    "# clicking search button\n",
    "\n",
    "search_btn.click()"
   ]
  },
  {
   "cell_type": "code",
   "execution_count": 14,
   "id": "1857b818",
   "metadata": {},
   "outputs": [],
   "source": [
    "# finding location check by using absolute path\n",
    "\n",
    "loc_check=driver.find_element_by_xpath('/html/body/div[1]/div[3]/div[2]/section[1]/div[2]/div[3]/div[2]/div[3]/label/i')"
   ]
  },
  {
   "cell_type": "code",
   "execution_count": 15,
   "id": "8bd16778",
   "metadata": {},
   "outputs": [],
   "source": [
    "# filtering location\n",
    "\n",
    "loc_check.click()"
   ]
  },
  {
   "cell_type": "code",
   "execution_count": 16,
   "id": "b51f47d7",
   "metadata": {},
   "outputs": [],
   "source": [
    "# finding salary check by using absolute path\n",
    "\n",
    "salary_check=driver.find_element_by_xpath('/html/body/div[1]/div[3]/div[2]/section[1]/div[2]/div[4]/div[2]/div[2]/label/i')"
   ]
  },
  {
   "cell_type": "code",
   "execution_count": 17,
   "id": "b507709d",
   "metadata": {},
   "outputs": [],
   "source": [
    "# filtering salary\n",
    "\n",
    "salary_check.click()"
   ]
  },
  {
   "cell_type": "code",
   "execution_count": 19,
   "id": "3681ce02",
   "metadata": {},
   "outputs": [
    {
     "data": {
      "text/plain": [
       "['Data Scientist | Python | Machine Learning | Deep Learning- Fresher',\n",
       " 'Senior Data Scientist I',\n",
       " 'Data Scientist']"
      ]
     },
     "execution_count": 19,
     "metadata": {},
     "output_type": "execute_result"
    }
   ],
   "source": [
    "# Extracting job titles \n",
    "\n",
    "title_tags=driver.find_elements_by_xpath('//a[@class=\"title fw500 ellipsis\"]')\n",
    "\n",
    "job_title=[]\n",
    "for i in title_tags:\n",
    "    job_title.append(i.text)\n",
    "job_title[0:3]"
   ]
  },
  {
   "cell_type": "code",
   "execution_count": 20,
   "id": "8166cacc",
   "metadata": {},
   "outputs": [
    {
     "data": {
      "text/plain": [
       "['Noida, Gurgaon/Gurugram, Delhi / NCR',\n",
       " 'Gurgaon/Gurugram',\n",
       " 'Gurgaon/Gurugram']"
      ]
     },
     "execution_count": 20,
     "metadata": {},
     "output_type": "execute_result"
    }
   ],
   "source": [
    "# Extracting job locations\n",
    "\n",
    "loc_tags=driver.find_elements_by_xpath('//li[@class=\"fleft grey-text br2 placeHolderLi location\"]')\n",
    "\n",
    "job_loc=[]\n",
    "for i in loc_tags:\n",
    "    job_loc.append(i.text)\n",
    "job_loc[0:3]"
   ]
  },
  {
   "cell_type": "code",
   "execution_count": 21,
   "id": "deaa33c0",
   "metadata": {},
   "outputs": [
    {
     "data": {
      "text/plain": [
       "['Schlesinger Group', 'Delhivery', 'T & A Solutions']"
      ]
     },
     "execution_count": 21,
     "metadata": {},
     "output_type": "execute_result"
    }
   ],
   "source": [
    "# Extracting company names\n",
    "\n",
    "company_tags=driver.find_elements_by_xpath('//a[@class=\"subTitle ellipsis fleft\"]')\n",
    "\n",
    "com_name=[]\n",
    "for i in company_tags:\n",
    "    com_name.append(i.text)\n",
    "com_name[0:3]"
   ]
  },
  {
   "cell_type": "code",
   "execution_count": 24,
   "id": "3d27909f",
   "metadata": {},
   "outputs": [
    {
     "data": {
      "text/plain": [
       "['0-3 Yrs', '3-7 Yrs', '2-6 Yrs']"
      ]
     },
     "execution_count": 24,
     "metadata": {},
     "output_type": "execute_result"
    }
   ],
   "source": [
    "# Extracting experiences\n",
    "\n",
    "exp_tags=driver.find_elements_by_xpath('//li[@class=\"fleft grey-text br2 placeHolderLi experience\"]')\n",
    "\n",
    "exp=[]\n",
    "for i in exp_tags:\n",
    "    exp.append(i.text)\n",
    "exp[0:3]"
   ]
  },
  {
   "cell_type": "code",
   "execution_count": 25,
   "id": "8a1e4c59",
   "metadata": {},
   "outputs": [
    {
     "data": {
      "text/html": [
       "<div>\n",
       "<style scoped>\n",
       "    .dataframe tbody tr th:only-of-type {\n",
       "        vertical-align: middle;\n",
       "    }\n",
       "\n",
       "    .dataframe tbody tr th {\n",
       "        vertical-align: top;\n",
       "    }\n",
       "\n",
       "    .dataframe thead th {\n",
       "        text-align: right;\n",
       "    }\n",
       "</style>\n",
       "<table border=\"1\" class=\"dataframe\">\n",
       "  <thead>\n",
       "    <tr style=\"text-align: right;\">\n",
       "      <th></th>\n",
       "      <th>JobTitles</th>\n",
       "      <th>Company Name</th>\n",
       "      <th>JobLocation</th>\n",
       "      <th>Experience</th>\n",
       "    </tr>\n",
       "  </thead>\n",
       "  <tbody>\n",
       "    <tr>\n",
       "      <th>0</th>\n",
       "      <td>Data Scientist | Python | Machine Learning | D...</td>\n",
       "      <td>Schlesinger Group</td>\n",
       "      <td>Noida, Gurgaon/Gurugram, Delhi / NCR</td>\n",
       "      <td>0-3 Yrs</td>\n",
       "    </tr>\n",
       "    <tr>\n",
       "      <th>1</th>\n",
       "      <td>Senior Data Scientist I</td>\n",
       "      <td>Delhivery</td>\n",
       "      <td>Gurgaon/Gurugram</td>\n",
       "      <td>3-7 Yrs</td>\n",
       "    </tr>\n",
       "    <tr>\n",
       "      <th>2</th>\n",
       "      <td>Data Scientist</td>\n",
       "      <td>T &amp; A Solutions</td>\n",
       "      <td>Gurgaon/Gurugram</td>\n",
       "      <td>2-6 Yrs</td>\n",
       "    </tr>\n",
       "    <tr>\n",
       "      <th>3</th>\n",
       "      <td>Job Opportunity || Data Scientist || HCL Techn...</td>\n",
       "      <td>HCL</td>\n",
       "      <td>Delhi / NCR</td>\n",
       "      <td>2-6 Yrs</td>\n",
       "    </tr>\n",
       "    <tr>\n",
       "      <th>4</th>\n",
       "      <td>Openings For Jr/mid/Sr level data Scientists</td>\n",
       "      <td>Pluto seven business solutions (p) limited</td>\n",
       "      <td>Kolkata, Hyderabad/Secunderabad, Pune, Ahmedab...</td>\n",
       "      <td>2-6 Yrs</td>\n",
       "    </tr>\n",
       "    <tr>\n",
       "      <th>5</th>\n",
       "      <td>Data Scientist role</td>\n",
       "      <td>Mount Talent Consulting Private Limited</td>\n",
       "      <td>Noida, Hyderabad/Secunderabad, Pune, Gurgaon/G...</td>\n",
       "      <td>1-4 Yrs</td>\n",
       "    </tr>\n",
       "    <tr>\n",
       "      <th>6</th>\n",
       "      <td>Urgent Hiring For Data Scientist</td>\n",
       "      <td>Mount Talent Consulting Private Limited</td>\n",
       "      <td>Gurgaon/Gurugram, Bangalore/Bengaluru</td>\n",
       "      <td>1-6 Yrs</td>\n",
       "    </tr>\n",
       "    <tr>\n",
       "      <th>7</th>\n",
       "      <td>Urgent Hiring For Data Scientist</td>\n",
       "      <td>Mount Talent Consulting Private Limited</td>\n",
       "      <td>Gurgaon/Gurugram, Bangalore/Bengaluru</td>\n",
       "      <td>1-6 Yrs</td>\n",
       "    </tr>\n",
       "    <tr>\n",
       "      <th>8</th>\n",
       "      <td>Data Scientist role</td>\n",
       "      <td>Mount Talent Consulting Private Limited</td>\n",
       "      <td>Noida, Hyderabad/Secunderabad, Pune, Gurgaon/G...</td>\n",
       "      <td>1-3 Yrs</td>\n",
       "    </tr>\n",
       "    <tr>\n",
       "      <th>9</th>\n",
       "      <td>Data Scientist role</td>\n",
       "      <td>Mount Talent Consulting Private Limited</td>\n",
       "      <td>Noida, Hyderabad/Secunderabad, Pune, Gurgaon/G...</td>\n",
       "      <td>1-3 Yrs</td>\n",
       "    </tr>\n",
       "  </tbody>\n",
       "</table>\n",
       "</div>"
      ],
      "text/plain": [
       "                                           JobTitles  \\\n",
       "0  Data Scientist | Python | Machine Learning | D...   \n",
       "1                            Senior Data Scientist I   \n",
       "2                                     Data Scientist   \n",
       "3  Job Opportunity || Data Scientist || HCL Techn...   \n",
       "4       Openings For Jr/mid/Sr level data Scientists   \n",
       "5                                Data Scientist role   \n",
       "6                   Urgent Hiring For Data Scientist   \n",
       "7                   Urgent Hiring For Data Scientist   \n",
       "8                                Data Scientist role   \n",
       "9                                Data Scientist role   \n",
       "\n",
       "                                 Company Name  \\\n",
       "0                           Schlesinger Group   \n",
       "1                                   Delhivery   \n",
       "2                             T & A Solutions   \n",
       "3                                         HCL   \n",
       "4  Pluto seven business solutions (p) limited   \n",
       "5     Mount Talent Consulting Private Limited   \n",
       "6     Mount Talent Consulting Private Limited   \n",
       "7     Mount Talent Consulting Private Limited   \n",
       "8     Mount Talent Consulting Private Limited   \n",
       "9     Mount Talent Consulting Private Limited   \n",
       "\n",
       "                                         JobLocation Experience  \n",
       "0               Noida, Gurgaon/Gurugram, Delhi / NCR    0-3 Yrs  \n",
       "1                                   Gurgaon/Gurugram    3-7 Yrs  \n",
       "2                                   Gurgaon/Gurugram    2-6 Yrs  \n",
       "3                                        Delhi / NCR    2-6 Yrs  \n",
       "4  Kolkata, Hyderabad/Secunderabad, Pune, Ahmedab...    2-6 Yrs  \n",
       "5  Noida, Hyderabad/Secunderabad, Pune, Gurgaon/G...    1-4 Yrs  \n",
       "6              Gurgaon/Gurugram, Bangalore/Bengaluru    1-6 Yrs  \n",
       "7              Gurgaon/Gurugram, Bangalore/Bengaluru    1-6 Yrs  \n",
       "8  Noida, Hyderabad/Secunderabad, Pune, Gurgaon/G...    1-3 Yrs  \n",
       "9  Noida, Hyderabad/Secunderabad, Pune, Gurgaon/G...    1-3 Yrs  "
      ]
     },
     "execution_count": 25,
     "metadata": {},
     "output_type": "execute_result"
    }
   ],
   "source": [
    "# Displaying extracted information for job titles ,location , experience , company name\n",
    "\n",
    "job=pd.DataFrame({'JobTitles':job_title[0:10],'Company Name':com_name[0:10],'JobLocation':job_loc[0:10],'Experience':exp[0:10]})\n",
    "job"
   ]
  },
  {
   "cell_type": "code",
   "execution_count": null,
   "id": "6c98a532",
   "metadata": {},
   "outputs": [],
   "source": []
  },
  {
   "cell_type": "code",
   "execution_count": 79,
   "id": "6ec438fc",
   "metadata": {},
   "outputs": [],
   "source": [
    "# Q4: Scrape data of first 100 sunglasses listings on flipkart.com.\n",
    "\n",
    "# Importing all required libraries\n",
    "\n",
    "\n",
    "import selenium\n",
    "from selenium import webdriver\n",
    "import pandas as pd\n",
    "import warnings\n",
    "warnings.filterwarnings('ignore')"
   ]
  },
  {
   "cell_type": "code",
   "execution_count": 78,
   "id": "f3c9eb13",
   "metadata": {},
   "outputs": [],
   "source": [
    "# Connecting to web driver\n",
    "\n",
    "driver=webdriver.Chrome('chromedriver.exe')"
   ]
  },
  {
   "cell_type": "code",
   "execution_count": 79,
   "id": "7c37f4c5",
   "metadata": {},
   "outputs": [],
   "source": [
    "url=\"https://www.flipkart.com/\"\n",
    "driver.get(url)"
   ]
  },
  {
   "cell_type": "code",
   "execution_count": 80,
   "id": "2902bee3",
   "metadata": {},
   "outputs": [],
   "source": [
    "# clicking on close button on login page\n",
    "#/html/body/div[2]/div/div/button\n",
    "\n",
    "close_btn=driver.find_element_by_xpath('/html/body/div[2]/div/div/button')\n",
    "close_btn.click()"
   ]
  },
  {
   "cell_type": "code",
   "execution_count": 81,
   "id": "d31f1957",
   "metadata": {},
   "outputs": [],
   "source": [
    "# finding web element for searching item\n",
    "\n",
    "search_item=driver.find_element_by_xpath('/html/body/div[1]/div/div[1]/div[1]/div[2]/div[2]/form/div/div/input')"
   ]
  },
  {
   "cell_type": "code",
   "execution_count": 82,
   "id": "a176b858",
   "metadata": {},
   "outputs": [],
   "source": [
    "# entering value to be search in search bar\n",
    "\n",
    "search_item.send_keys('sunglasses')"
   ]
  },
  {
   "cell_type": "code",
   "execution_count": 83,
   "id": "bc87e951",
   "metadata": {},
   "outputs": [],
   "source": [
    "# clicking on search button for finding item\n",
    "\n",
    "search_btn=driver.find_element_by_xpath('/html/body/div[1]/div/div[1]/div[1]/div[2]/div[2]/form/div/button')\n",
    "search_btn.click()"
   ]
  },
  {
   "cell_type": "code",
   "execution_count": 84,
   "id": "df2f1a3f",
   "metadata": {},
   "outputs": [],
   "source": [
    "# extracting  items brands,description ,price  by navigating through pages\n",
    "\n",
    "start=0\n",
    "brand=[]\n",
    "end=3\n",
    "\n",
    "for page in range(start,end):#for loop for scrapping 3 page\n",
    "\n",
    "    brands=driver.find_elements_by_class_name('_2WkVRV') #scraping brands name by class name='_2WkVRV'\n",
    "    for i in brands:\n",
    "        brand.append(i.text)#appending the brand name  in Brand list   \n",
    "    brands=[]\n",
    "    \n",
    "    item_desc=driver.find_elements_by_xpath('//a[@class=\"IRpwTa\"]') #scraping item description from the xpath\n",
    "    for i in item_desc:\n",
    "        desc.append(i.text)#appending the item description in desc list\n",
    "    item_desc=[]\n",
    "    \n",
    "    item_price=driver.find_elements_by_class_name('_30jeq3') #scraping price element from the xpath\n",
    "    for i in item_price:\n",
    "        price.append(i.text)#appending the item price in price list\n",
    "    item_price=[]\n",
    "    \n",
    "    nxt_button=driver.find_elements_by_xpath(\"//a[@class='_1LKTO3']\")#scraping the list of buttons from the page\n",
    "\n",
    "    try:\n",
    "\n",
    "        driver.get(nxt_button[1].get_attribute('href'))#getting the link from the list for next page\n",
    "\n",
    "    except:\n",
    "\n",
    "        driver.get(nxt_button[0].get_attribute('href'))\n"
   ]
  },
  {
   "cell_type": "code",
   "execution_count": 86,
   "id": "fecd92f7",
   "metadata": {},
   "outputs": [
    {
     "data": {
      "text/html": [
       "<div>\n",
       "<style scoped>\n",
       "    .dataframe tbody tr th:only-of-type {\n",
       "        vertical-align: middle;\n",
       "    }\n",
       "\n",
       "    .dataframe tbody tr th {\n",
       "        vertical-align: top;\n",
       "    }\n",
       "\n",
       "    .dataframe thead th {\n",
       "        text-align: right;\n",
       "    }\n",
       "</style>\n",
       "<table border=\"1\" class=\"dataframe\">\n",
       "  <thead>\n",
       "    <tr style=\"text-align: right;\">\n",
       "      <th></th>\n",
       "      <th>Brand Name</th>\n",
       "      <th>Brand_Desc</th>\n",
       "      <th>Brand Price</th>\n",
       "    </tr>\n",
       "  </thead>\n",
       "  <tbody>\n",
       "    <tr>\n",
       "      <th>0</th>\n",
       "      <td>Kanishka</td>\n",
       "      <td>UV Protection, Polarized Oval Sunglasses (48)</td>\n",
       "      <td>₹1,000</td>\n",
       "    </tr>\n",
       "    <tr>\n",
       "      <th>1</th>\n",
       "      <td>VINCENT CHASE</td>\n",
       "      <td>UV Protection Round, Oval Sunglasses (54)</td>\n",
       "      <td>₹248</td>\n",
       "    </tr>\n",
       "    <tr>\n",
       "      <th>2</th>\n",
       "      <td>PIRASO</td>\n",
       "      <td>UV Protection Shield Sunglasses (Free Size)</td>\n",
       "      <td>₹349</td>\n",
       "    </tr>\n",
       "    <tr>\n",
       "      <th>3</th>\n",
       "      <td>Elligator</td>\n",
       "      <td>UV Protection Aviator Sunglasses (55)</td>\n",
       "      <td>₹145</td>\n",
       "    </tr>\n",
       "    <tr>\n",
       "      <th>4</th>\n",
       "      <td>Fastrack</td>\n",
       "      <td>UV Protection, Night Vision Wayfarer Sunglasse...</td>\n",
       "      <td>₹1,559</td>\n",
       "    </tr>\n",
       "    <tr>\n",
       "      <th>...</th>\n",
       "      <td>...</td>\n",
       "      <td>...</td>\n",
       "      <td>...</td>\n",
       "    </tr>\n",
       "    <tr>\n",
       "      <th>95</th>\n",
       "      <td>ROZZETTA CRAFT</td>\n",
       "      <td>UV Protection Retro Square Sunglasses (Free Size)</td>\n",
       "      <td>₹224</td>\n",
       "    </tr>\n",
       "    <tr>\n",
       "      <th>96</th>\n",
       "      <td>New Specs</td>\n",
       "      <td>UV Protection, Gradient Butterfly Sunglasses (52)</td>\n",
       "      <td>₹396</td>\n",
       "    </tr>\n",
       "    <tr>\n",
       "      <th>97</th>\n",
       "      <td>Fravy</td>\n",
       "      <td>Polarized, UV Protection Retro Square Sunglass...</td>\n",
       "      <td>₹383</td>\n",
       "    </tr>\n",
       "    <tr>\n",
       "      <th>98</th>\n",
       "      <td>ROYAL SON</td>\n",
       "      <td>UV Protection Round Sunglasses (Free Size)</td>\n",
       "      <td>₹207</td>\n",
       "    </tr>\n",
       "    <tr>\n",
       "      <th>99</th>\n",
       "      <td>VILLAIN</td>\n",
       "      <td>Others Wayfarer Sunglasses (Free Size)</td>\n",
       "      <td>₹917</td>\n",
       "    </tr>\n",
       "  </tbody>\n",
       "</table>\n",
       "<p>100 rows × 3 columns</p>\n",
       "</div>"
      ],
      "text/plain": [
       "        Brand Name                                         Brand_Desc  \\\n",
       "0         Kanishka      UV Protection, Polarized Oval Sunglasses (48)   \n",
       "1    VINCENT CHASE          UV Protection Round, Oval Sunglasses (54)   \n",
       "2           PIRASO        UV Protection Shield Sunglasses (Free Size)   \n",
       "3        Elligator              UV Protection Aviator Sunglasses (55)   \n",
       "4         Fastrack  UV Protection, Night Vision Wayfarer Sunglasse...   \n",
       "..             ...                                                ...   \n",
       "95  ROZZETTA CRAFT  UV Protection Retro Square Sunglasses (Free Size)   \n",
       "96       New Specs  UV Protection, Gradient Butterfly Sunglasses (52)   \n",
       "97           Fravy  Polarized, UV Protection Retro Square Sunglass...   \n",
       "98       ROYAL SON         UV Protection Round Sunglasses (Free Size)   \n",
       "99         VILLAIN             Others Wayfarer Sunglasses (Free Size)   \n",
       "\n",
       "   Brand Price  \n",
       "0       ₹1,000  \n",
       "1         ₹248  \n",
       "2         ₹349  \n",
       "3         ₹145  \n",
       "4       ₹1,559  \n",
       "..         ...  \n",
       "95        ₹224  \n",
       "96        ₹396  \n",
       "97        ₹383  \n",
       "98        ₹207  \n",
       "99        ₹917  \n",
       "\n",
       "[100 rows x 3 columns]"
      ]
     },
     "execution_count": 86,
     "metadata": {},
     "output_type": "execute_result"
    }
   ],
   "source": [
    "# Displaying brands, description , price \n",
    "\n",
    "brand_display=pd.DataFrame({'Brand Name':brand[0:100],'Brand_Desc':desc[0:100],'Brand Price':price[0:100]})\n",
    "brand_display"
   ]
  },
  {
   "cell_type": "code",
   "execution_count": null,
   "id": "0258ffef",
   "metadata": {},
   "outputs": [],
   "source": []
  },
  {
   "cell_type": "code",
   "execution_count": 87,
   "id": "70c00ccf",
   "metadata": {},
   "outputs": [],
   "source": [
    "# Q5: Scrape 100 reviews data from flipkart.com for iphone11 phone.\n",
    "    \n",
    "\n",
    "# Importing all required libraries\n",
    "\n",
    "\n",
    "import selenium\n",
    "from selenium import webdriver\n",
    "import pandas as pd\n",
    "import warnings\n",
    "warnings.filterwarnings('ignore')"
   ]
  },
  {
   "cell_type": "code",
   "execution_count": 88,
   "id": "71f20716",
   "metadata": {},
   "outputs": [],
   "source": [
    "# Connecting to web driver\n",
    "\n",
    "driver=webdriver.Chrome('chromedriver.exe')"
   ]
  },
  {
   "cell_type": "code",
   "execution_count": 89,
   "id": "d8aa6882",
   "metadata": {},
   "outputs": [],
   "source": [
    "url=\"https://www.flipkart.com/apple-iphone-11-black-64-gb-includes- earpods-power- adapter/p/itm0f37c2240b217?pid=MOBFKCTSVZAXUHGR&lid=LSTMOBFKC TSVZAXUHGREPBFGI&marketplace.\"\n",
    "driver.get(url)"
   ]
  },
  {
   "cell_type": "code",
   "execution_count": 90,
   "id": "4db2d299",
   "metadata": {},
   "outputs": [],
   "source": [
    "# clicking to find all reviews\n",
    "\n",
    "all_reviews=driver.find_element_by_xpath('//div[@class=\"_3UAT2v _16PBlm\"]')\n",
    "all_reviews.click()"
   ]
  },
  {
   "cell_type": "code",
   "execution_count": 91,
   "id": "3fabd3ee",
   "metadata": {},
   "outputs": [],
   "source": [
    "# extracting  i phone ratings ,review summary, full summary  by navigating through pages\n",
    "\n",
    "start=0\n",
    "end=11\n",
    "rating=[]\n",
    "\n",
    "for page in range(start,end):#for loop for scrapping 10 page\n",
    "    rating_tags=driver.find_elements_by_xpath('//div[@class=\"_3LWZlK _1BLPMq\"]') #scraping rating from the xpath\n",
    "    for i in rating_tags:\n",
    "        rating.append(i.text)#appending the rating in rating list\n",
    "    rating_tags=[]\n",
    "    \n",
    "    rev_sum_tags=driver.find_elements_by_class_name('_2-N8zT') #scraping review summary elements from the xpath\n",
    "    for i in rev_sum_tags:\n",
    "        rev_sum.append(i.text)#appending the review summary in rating list\n",
    "    rev_sum_tags=[]\n",
    "    \n",
    "    full_rev_tags=driver.find_elements_by_xpath('//div[@class=\"t-ZTKy\"]') #scraping full review element from the xpath\n",
    "    for i in full_rev_tags:\n",
    "        full_rev.append(i.text)#appending the full review in rating list\n",
    "    full_rev_tags=[]\n",
    "    \n",
    "    nxt_button=driver.find_elements_by_xpath(\"//a[@class='_1LKTO3']\")#scraping the list of buttons from the page\n",
    "\n",
    "    try:\n",
    "\n",
    "        driver.get(nxt_button[1].get_attribute('href'))#getting the link from the list for next page\n",
    "\n",
    "    except:\n",
    "\n",
    "        driver.get(nxt_button[0].get_attribute('href'))\n"
   ]
  },
  {
   "cell_type": "code",
   "execution_count": 92,
   "id": "f7bba2cd",
   "metadata": {},
   "outputs": [
    {
     "data": {
      "text/html": [
       "<div>\n",
       "<style scoped>\n",
       "    .dataframe tbody tr th:only-of-type {\n",
       "        vertical-align: middle;\n",
       "    }\n",
       "\n",
       "    .dataframe tbody tr th {\n",
       "        vertical-align: top;\n",
       "    }\n",
       "\n",
       "    .dataframe thead th {\n",
       "        text-align: right;\n",
       "    }\n",
       "</style>\n",
       "<table border=\"1\" class=\"dataframe\">\n",
       "  <thead>\n",
       "    <tr style=\"text-align: right;\">\n",
       "      <th></th>\n",
       "      <th>Ratings</th>\n",
       "      <th>Review_Summary</th>\n",
       "      <th>Full_Summary</th>\n",
       "    </tr>\n",
       "  </thead>\n",
       "  <tbody>\n",
       "    <tr>\n",
       "      <th>0</th>\n",
       "      <td>5</td>\n",
       "      <td>Good quality product</td>\n",
       "      <td>I am using IOS devices since last 4 years. So ...</td>\n",
       "    </tr>\n",
       "    <tr>\n",
       "      <th>1</th>\n",
       "      <td>5</td>\n",
       "      <td>Fabulous!</td>\n",
       "      <td>No doubt why cost what it cost? No complain ab...</td>\n",
       "    </tr>\n",
       "    <tr>\n",
       "      <th>2</th>\n",
       "      <td>5</td>\n",
       "      <td>Good quality product</td>\n",
       "      <td>Very nice and butyful phone camera not best as...</td>\n",
       "    </tr>\n",
       "    <tr>\n",
       "      <th>3</th>\n",
       "      <td>5</td>\n",
       "      <td>Excellent</td>\n",
       "      <td>Wow!!!\\nThis product is a beast man,performanc...</td>\n",
       "    </tr>\n",
       "    <tr>\n",
       "      <th>4</th>\n",
       "      <td>5</td>\n",
       "      <td>Mind-blowing purchase</td>\n",
       "      <td>This phone justifies the price in which it com...</td>\n",
       "    </tr>\n",
       "    <tr>\n",
       "      <th>...</th>\n",
       "      <td>...</td>\n",
       "      <td>...</td>\n",
       "      <td>...</td>\n",
       "    </tr>\n",
       "    <tr>\n",
       "      <th>95</th>\n",
       "      <td>3</td>\n",
       "      <td>Super!</td>\n",
       "      <td>The phone is simply phenomenal, I upgraded fro...</td>\n",
       "    </tr>\n",
       "    <tr>\n",
       "      <th>96</th>\n",
       "      <td>5</td>\n",
       "      <td>Brilliant</td>\n",
       "      <td>Although I already bought my first ever Apple ...</td>\n",
       "    </tr>\n",
       "    <tr>\n",
       "      <th>97</th>\n",
       "      <td>5</td>\n",
       "      <td>Wonderful</td>\n",
       "      <td>Great Phone, I am using mobile phone since 199...</td>\n",
       "    </tr>\n",
       "    <tr>\n",
       "      <th>98</th>\n",
       "      <td>5</td>\n",
       "      <td>Classy product</td>\n",
       "      <td>absolutely stunning phone. Switching from andr...</td>\n",
       "    </tr>\n",
       "    <tr>\n",
       "      <th>99</th>\n",
       "      <td>5</td>\n",
       "      <td>Best in the market!</td>\n",
       "      <td>I’ll be rather the billionth person to review ...</td>\n",
       "    </tr>\n",
       "  </tbody>\n",
       "</table>\n",
       "<p>100 rows × 3 columns</p>\n",
       "</div>"
      ],
      "text/plain": [
       "   Ratings         Review_Summary  \\\n",
       "0        5   Good quality product   \n",
       "1        5              Fabulous!   \n",
       "2        5   Good quality product   \n",
       "3        5              Excellent   \n",
       "4        5  Mind-blowing purchase   \n",
       "..     ...                    ...   \n",
       "95       3                 Super!   \n",
       "96       5              Brilliant   \n",
       "97       5              Wonderful   \n",
       "98       5         Classy product   \n",
       "99       5    Best in the market!   \n",
       "\n",
       "                                         Full_Summary  \n",
       "0   I am using IOS devices since last 4 years. So ...  \n",
       "1   No doubt why cost what it cost? No complain ab...  \n",
       "2   Very nice and butyful phone camera not best as...  \n",
       "3   Wow!!!\\nThis product is a beast man,performanc...  \n",
       "4   This phone justifies the price in which it com...  \n",
       "..                                                ...  \n",
       "95  The phone is simply phenomenal, I upgraded fro...  \n",
       "96  Although I already bought my first ever Apple ...  \n",
       "97  Great Phone, I am using mobile phone since 199...  \n",
       "98  absolutely stunning phone. Switching from andr...  \n",
       "99  I’ll be rather the billionth person to review ...  \n",
       "\n",
       "[100 rows x 3 columns]"
      ]
     },
     "execution_count": 92,
     "metadata": {},
     "output_type": "execute_result"
    }
   ],
   "source": [
    "# Displaying Ratings,review_summary,Full summary \n",
    "\n",
    "Review_Display=pd.DataFrame({'Ratings':rating[0:100],'Review_Summary':rev_sum[0:100],'Full_Summary':full_rev[0:100]})\n",
    "Review_Display"
   ]
  },
  {
   "cell_type": "code",
   "execution_count": null,
   "id": "0ae4b1e4",
   "metadata": {},
   "outputs": [],
   "source": []
  },
  {
   "cell_type": "code",
   "execution_count": 8,
   "id": "fb922359",
   "metadata": {},
   "outputs": [],
   "source": [
    "# Q6: Scrape data for first 100 sneakers you find when you visit flipkart.com andsearch for “sneakers” in the search field.\n",
    "\n",
    "\n",
    "# Importing all required libraries\n",
    "\n",
    "\n",
    "import selenium\n",
    "from selenium import webdriver\n",
    "import pandas as pd\n",
    "import warnings\n",
    "warnings.filterwarnings('ignore')"
   ]
  },
  {
   "cell_type": "code",
   "execution_count": 129,
   "id": "8b81ebb2",
   "metadata": {},
   "outputs": [],
   "source": [
    "# Connecting to web driver\n",
    "\n",
    "driver=webdriver.Chrome('chromedriver.exe')"
   ]
  },
  {
   "cell_type": "code",
   "execution_count": 130,
   "id": "5ae70cc2",
   "metadata": {},
   "outputs": [],
   "source": [
    "url=\"https://www.flipkart.com/\"\n",
    "driver.get(url)"
   ]
  },
  {
   "cell_type": "code",
   "execution_count": 131,
   "id": "690f55bc",
   "metadata": {},
   "outputs": [],
   "source": [
    "# clicking on close button on login page\n",
    "#/html/body/div[2]/div/div/button\n",
    "\n",
    "close_btn=driver.find_element_by_xpath('/html/body/div[2]/div/div/button')\n",
    "close_btn.click()"
   ]
  },
  {
   "cell_type": "code",
   "execution_count": 132,
   "id": "1f3e8050",
   "metadata": {},
   "outputs": [],
   "source": [
    "# finding web element for searching item\n",
    "\n",
    "search_item=driver.find_element_by_xpath('/html/body/div[1]/div/div[1]/div[1]/div[2]/div[2]/form/div/div/input')"
   ]
  },
  {
   "cell_type": "code",
   "execution_count": 133,
   "id": "c54628b6",
   "metadata": {},
   "outputs": [],
   "source": [
    "# entering value to be search in search bar\n",
    "\n",
    "search_item.send_keys(\"sneakers\")"
   ]
  },
  {
   "cell_type": "code",
   "execution_count": 134,
   "id": "8820918e",
   "metadata": {},
   "outputs": [],
   "source": [
    "# clicking on search button for finding item\n",
    "\n",
    "search_btn=driver.find_element_by_class_name('L0Z3Pu')\n",
    "search_btn.click()"
   ]
  },
  {
   "cell_type": "code",
   "execution_count": 135,
   "id": "3a9e073a",
   "metadata": {},
   "outputs": [],
   "source": [
    "# extracting  items brands,description ,price  by navigating through pages\n",
    "\n",
    "start=0\n",
    "item=[]\n",
    "b_price=[]\n",
    "b_desc=[]\n",
    "end=5\n",
    "\n",
    "for page in range(start,end):#for loop for scrapping 4 page\n",
    "\n",
    "    item_tags=driver.find_elements_by_class_name('_2WkVRV') #scraping brands name by class name='_2WkVRV'\n",
    "    for i in item_tags:\n",
    "        item.append(i.text)#appending the brand name  in Brand list   \n",
    "    item_tags=[]\n",
    "    \n",
    "    brand_desc=driver.find_elements_by_xpath('//a[@class=\"IRpwTa\"]') #scraping item description from the xpath\n",
    "    for i in brand_desc:\n",
    "        b_desc.append(i.text)#appending the item description in desc list\n",
    "    brand_desc=[]\n",
    "    \n",
    "    brand_price=driver.find_elements_by_class_name('_30jeq3') #scraping price element from the xpath\n",
    "    for i in brand_price:\n",
    "        b_price.append(i.text)#appending the item price in price list\n",
    "    brand_price=[]\n",
    "    \n",
    "    nxt_button=driver.find_elements_by_xpath(\"//a[@class='_1LKTO3']\")#scraping the list of buttons from the page\n",
    "\n",
    "    try:\n",
    "\n",
    "        driver.get(nxt_button[1].get_attribute('href'))#getting the link from the list for next page\n",
    "\n",
    "    except:\n",
    "\n",
    "        driver.get(nxt_button[0].get_attribute('href'))"
   ]
  },
  {
   "cell_type": "code",
   "execution_count": 136,
   "id": "6b79a181",
   "metadata": {},
   "outputs": [
    {
     "data": {
      "text/html": [
       "<div>\n",
       "<style scoped>\n",
       "    .dataframe tbody tr th:only-of-type {\n",
       "        vertical-align: middle;\n",
       "    }\n",
       "\n",
       "    .dataframe tbody tr th {\n",
       "        vertical-align: top;\n",
       "    }\n",
       "\n",
       "    .dataframe thead th {\n",
       "        text-align: right;\n",
       "    }\n",
       "</style>\n",
       "<table border=\"1\" class=\"dataframe\">\n",
       "  <thead>\n",
       "    <tr style=\"text-align: right;\">\n",
       "      <th></th>\n",
       "      <th>Brand Name</th>\n",
       "      <th>Brand_Desc</th>\n",
       "      <th>Brand Price</th>\n",
       "    </tr>\n",
       "  </thead>\n",
       "  <tbody>\n",
       "    <tr>\n",
       "      <th>0</th>\n",
       "      <td>Echor</td>\n",
       "      <td>Men's Sneakers Fashion Lightweight Running Sho...</td>\n",
       "      <td>₹569</td>\n",
       "    </tr>\n",
       "    <tr>\n",
       "      <th>1</th>\n",
       "      <td>ESSENCE</td>\n",
       "      <td>Luxury Fashionable casual sneaker shoes and sh...</td>\n",
       "      <td>₹399</td>\n",
       "    </tr>\n",
       "    <tr>\n",
       "      <th>2</th>\n",
       "      <td>Magnolia</td>\n",
       "      <td>Sneakers For Men</td>\n",
       "      <td>₹398</td>\n",
       "    </tr>\n",
       "    <tr>\n",
       "      <th>3</th>\n",
       "      <td>URBANBOX</td>\n",
       "      <td>Sneakers For Men</td>\n",
       "      <td>₹220</td>\n",
       "    </tr>\n",
       "    <tr>\n",
       "      <th>4</th>\n",
       "      <td>Labbin</td>\n",
       "      <td>Luxury Fashionable casual sneaker shoes Sneake...</td>\n",
       "      <td>₹499</td>\n",
       "    </tr>\n",
       "    <tr>\n",
       "      <th>...</th>\n",
       "      <td>...</td>\n",
       "      <td>...</td>\n",
       "      <td>...</td>\n",
       "    </tr>\n",
       "    <tr>\n",
       "      <th>95</th>\n",
       "      <td>Echor</td>\n",
       "      <td>Leaf Sneaker Sneakers For Men</td>\n",
       "      <td>₹279</td>\n",
       "    </tr>\n",
       "    <tr>\n",
       "      <th>96</th>\n",
       "      <td>SPADE CLUB</td>\n",
       "      <td>Sneakers For Men</td>\n",
       "      <td>₹449</td>\n",
       "    </tr>\n",
       "    <tr>\n",
       "      <th>97</th>\n",
       "      <td>Rocky Footwear</td>\n",
       "      <td>LYTECOURT Sneakers For Men</td>\n",
       "      <td>₹499</td>\n",
       "    </tr>\n",
       "    <tr>\n",
       "      <th>98</th>\n",
       "      <td>RODDICK SHOES</td>\n",
       "      <td>Sneakers For Men</td>\n",
       "      <td>₹799</td>\n",
       "    </tr>\n",
       "    <tr>\n",
       "      <th>99</th>\n",
       "      <td>BLANCCY</td>\n",
       "      <td>Sneakers For Men</td>\n",
       "      <td>₹398</td>\n",
       "    </tr>\n",
       "  </tbody>\n",
       "</table>\n",
       "<p>100 rows × 3 columns</p>\n",
       "</div>"
      ],
      "text/plain": [
       "        Brand Name                                         Brand_Desc  \\\n",
       "0            Echor  Men's Sneakers Fashion Lightweight Running Sho...   \n",
       "1          ESSENCE  Luxury Fashionable casual sneaker shoes and sh...   \n",
       "2         Magnolia                                   Sneakers For Men   \n",
       "3         URBANBOX                                   Sneakers For Men   \n",
       "4           Labbin  Luxury Fashionable casual sneaker shoes Sneake...   \n",
       "..             ...                                                ...   \n",
       "95           Echor                      Leaf Sneaker Sneakers For Men   \n",
       "96      SPADE CLUB                                   Sneakers For Men   \n",
       "97  Rocky Footwear                         LYTECOURT Sneakers For Men   \n",
       "98   RODDICK SHOES                                   Sneakers For Men   \n",
       "99         BLANCCY                                   Sneakers For Men   \n",
       "\n",
       "   Brand Price  \n",
       "0         ₹569  \n",
       "1         ₹399  \n",
       "2         ₹398  \n",
       "3         ₹220  \n",
       "4         ₹499  \n",
       "..         ...  \n",
       "95        ₹279  \n",
       "96        ₹449  \n",
       "97        ₹499  \n",
       "98        ₹799  \n",
       "99        ₹398  \n",
       "\n",
       "[100 rows x 3 columns]"
      ]
     },
     "execution_count": 136,
     "metadata": {},
     "output_type": "execute_result"
    }
   ],
   "source": [
    "# Displaying brands, description , price \n",
    "\n",
    "brand_display=pd.DataFrame({'Brand Name':item[0:100],'Brand_Desc':b_desc[0:100],'Brand Price':b_price[0:100]})\n",
    "brand_display"
   ]
  },
  {
   "cell_type": "code",
   "execution_count": null,
   "id": "b38d88d6",
   "metadata": {},
   "outputs": [],
   "source": []
  },
  {
   "cell_type": "code",
   "execution_count": 36,
   "id": "ff390919",
   "metadata": {},
   "outputs": [],
   "source": [
    "# Q.7) scrape First 100 shoes data from https://www.myntra.com/shoes\n",
    "# Importing all required libraries\n",
    "\n",
    "\n",
    "import selenium\n",
    "from selenium import webdriver\n",
    "import pandas as pd\n",
    "import warnings\n",
    "warnings.filterwarnings('ignore')"
   ]
  },
  {
   "cell_type": "code",
   "execution_count": 168,
   "id": "02eb7764",
   "metadata": {},
   "outputs": [],
   "source": [
    "# Connecting to web driver\n",
    "\n",
    "driver=webdriver.Chrome('chromedriver.exe')"
   ]
  },
  {
   "cell_type": "code",
   "execution_count": 169,
   "id": "5446c10b",
   "metadata": {},
   "outputs": [],
   "source": [
    "url=\"https://www.myntra.com/shoes\"\n",
    "driver.get(url)"
   ]
  },
  {
   "cell_type": "code",
   "execution_count": 170,
   "id": "4f2f00b4",
   "metadata": {},
   "outputs": [],
   "source": [
    "# finding and clicking  web element to filter shoes for price between Rs 7134 to Rs 14099\n",
    "\n",
    "filter_price_tag=driver.find_element_by_xpath('/html/body/div[2]/div/div[1]/main/div[3]/div[1]/section/div/div[5]/ul/li[2]/label/div')\n",
    "filter_price_tag.click()"
   ]
  },
  {
   "cell_type": "code",
   "execution_count": 171,
   "id": "3d988d78",
   "metadata": {},
   "outputs": [],
   "source": [
    "# finding and clicking web element to filter shoes for color black\n",
    "\n",
    "filter_color_tag=driver.find_element_by_xpath('/html/body/div[2]/div/div[1]/main/div[3]/div[1]/section/div/div[6]/ul/li[1]/label/div')\n",
    "filter_color_tag.click()"
   ]
  },
  {
   "cell_type": "code",
   "execution_count": 172,
   "id": "0e0b3601",
   "metadata": {},
   "outputs": [],
   "source": [
    "# extracting  shoes brands,description ,price  by navigating through pages\n",
    "\n",
    "start=0\n",
    "item=[]\n",
    "b_price=[]\n",
    "b_desc=[]\n",
    "end=4\n",
    "\n",
    "for page in range(start,end):#for loop for scrapping 3 page\n",
    "\n",
    "    item_tags=driver.find_elements_by_class_name('product-brand') #scraping brands name by class name='_2WkVRV'\n",
    "    for i in item_tags:\n",
    "        item.append(i.text)#appending the brand name  in Brand list   \n",
    "    item_tags=[]\n",
    "    \n",
    "    brand_desc=driver.find_elements_by_xpath('//h4[@class=\"product-product\"]') #scraping item description from the xpath\n",
    "    for i in brand_desc:\n",
    "        b_desc.append(i.text)#appending the item description in desc list\n",
    "    brand_desc=[]\n",
    "    \n",
    "    brand_price=driver.find_elements_by_xpath('//div[@class=\"product-price\"]') #scraping price element from the xpath\n",
    "    for i in brand_price:\n",
    "        b_price.append(i.text)#appending the item price in price list\n",
    "    brand_price=[]\n",
    "    \n",
    "    nxt_button=driver.find_elements_by_xpath(\"//li[@class='pagination-next']/a\")#scraping the list of buttons from the page\n",
    "\n",
    "    try:\n",
    "\n",
    "        driver.get(nxt_button[1].get_attribute('href'))#getting the link from the list for next page\n",
    "\n",
    "    except:\n",
    "\n",
    "        driver.get(nxt_button[0].get_attribute('href'))"
   ]
  },
  {
   "cell_type": "code",
   "execution_count": 176,
   "id": "0e1387e8",
   "metadata": {},
   "outputs": [
    {
     "data": {
      "text/html": [
       "<div>\n",
       "<style scoped>\n",
       "    .dataframe tbody tr th:only-of-type {\n",
       "        vertical-align: middle;\n",
       "    }\n",
       "\n",
       "    .dataframe tbody tr th {\n",
       "        vertical-align: top;\n",
       "    }\n",
       "\n",
       "    .dataframe thead th {\n",
       "        text-align: right;\n",
       "    }\n",
       "</style>\n",
       "<table border=\"1\" class=\"dataframe\">\n",
       "  <thead>\n",
       "    <tr style=\"text-align: right;\">\n",
       "      <th></th>\n",
       "      <th>Brand Name</th>\n",
       "      <th>Brand_Desc</th>\n",
       "      <th>Brand Price</th>\n",
       "    </tr>\n",
       "  </thead>\n",
       "  <tbody>\n",
       "    <tr>\n",
       "      <th>0</th>\n",
       "      <td>Puma</td>\n",
       "      <td>Men Running Shoes</td>\n",
       "      <td>Rs. 7149Rs. 12999(45% OFF)</td>\n",
       "    </tr>\n",
       "    <tr>\n",
       "      <th>1</th>\n",
       "      <td>Puma</td>\n",
       "      <td>Men Magnify Nitro Running</td>\n",
       "      <td>Rs. 7799Rs. 12999(40% OFF)</td>\n",
       "    </tr>\n",
       "    <tr>\n",
       "      <th>2</th>\n",
       "      <td>Saint G</td>\n",
       "      <td>Men Mid-Top Chelsea Boots</td>\n",
       "      <td>Rs. 9265Rs. 10900(15% OFF)</td>\n",
       "    </tr>\n",
       "    <tr>\n",
       "      <th>3</th>\n",
       "      <td>ROSSO BRUNELLO</td>\n",
       "      <td>Men Textured Formal Loafers</td>\n",
       "      <td>Rs. 10999</td>\n",
       "    </tr>\n",
       "    <tr>\n",
       "      <th>4</th>\n",
       "      <td>Bugatti</td>\n",
       "      <td>Men Running Shoes</td>\n",
       "      <td>Rs. 7999Rs. 9999(20% OFF)</td>\n",
       "    </tr>\n",
       "    <tr>\n",
       "      <th>...</th>\n",
       "      <td>...</td>\n",
       "      <td>...</td>\n",
       "      <td>...</td>\n",
       "    </tr>\n",
       "    <tr>\n",
       "      <th>95</th>\n",
       "      <td>Saint G</td>\n",
       "      <td>Women Leather Heeled Boots</td>\n",
       "      <td>Rs. 12325Rs. 14500(15% OFF)</td>\n",
       "    </tr>\n",
       "    <tr>\n",
       "      <th>96</th>\n",
       "      <td>Hush Puppies</td>\n",
       "      <td>Men Solid Formal Slip-Ons</td>\n",
       "      <td>Rs. 8999Rs. 9999(10% OFF)</td>\n",
       "    </tr>\n",
       "    <tr>\n",
       "      <th>97</th>\n",
       "      <td>ECCO</td>\n",
       "      <td>Helsinki Bike Toe Lace Shoes</td>\n",
       "      <td>Rs. 12999</td>\n",
       "    </tr>\n",
       "    <tr>\n",
       "      <th>98</th>\n",
       "      <td>MANGO</td>\n",
       "      <td>Women Mid Top Chunky Flat Boot</td>\n",
       "      <td>Rs. 7191Rs. 7990(10% OFF)</td>\n",
       "    </tr>\n",
       "    <tr>\n",
       "      <th>99</th>\n",
       "      <td>Clarks</td>\n",
       "      <td>Men Solid Formal Leather Derbys</td>\n",
       "      <td>Rs. 9999</td>\n",
       "    </tr>\n",
       "  </tbody>\n",
       "</table>\n",
       "<p>100 rows × 3 columns</p>\n",
       "</div>"
      ],
      "text/plain": [
       "        Brand Name                       Brand_Desc  \\\n",
       "0             Puma                Men Running Shoes   \n",
       "1             Puma        Men Magnify Nitro Running   \n",
       "2          Saint G        Men Mid-Top Chelsea Boots   \n",
       "3   ROSSO BRUNELLO      Men Textured Formal Loafers   \n",
       "4          Bugatti                Men Running Shoes   \n",
       "..             ...                              ...   \n",
       "95         Saint G       Women Leather Heeled Boots   \n",
       "96    Hush Puppies        Men Solid Formal Slip-Ons   \n",
       "97            ECCO     Helsinki Bike Toe Lace Shoes   \n",
       "98           MANGO   Women Mid Top Chunky Flat Boot   \n",
       "99          Clarks  Men Solid Formal Leather Derbys   \n",
       "\n",
       "                    Brand Price  \n",
       "0    Rs. 7149Rs. 12999(45% OFF)  \n",
       "1    Rs. 7799Rs. 12999(40% OFF)  \n",
       "2    Rs. 9265Rs. 10900(15% OFF)  \n",
       "3                     Rs. 10999  \n",
       "4     Rs. 7999Rs. 9999(20% OFF)  \n",
       "..                          ...  \n",
       "95  Rs. 12325Rs. 14500(15% OFF)  \n",
       "96    Rs. 8999Rs. 9999(10% OFF)  \n",
       "97                    Rs. 12999  \n",
       "98    Rs. 7191Rs. 7990(10% OFF)  \n",
       "99                     Rs. 9999  \n",
       "\n",
       "[100 rows x 3 columns]"
      ]
     },
     "execution_count": 176,
     "metadata": {},
     "output_type": "execute_result"
    }
   ],
   "source": [
    "# Displaying brands, description , price \n",
    "\n",
    "brand_display=pd.DataFrame({'Brand Name':item[0:100],'Brand_Desc':b_desc[0:100],'Brand Price':b_price[0:100]})\n",
    "brand_display"
   ]
  },
  {
   "cell_type": "code",
   "execution_count": null,
   "id": "5e4b3e87",
   "metadata": {},
   "outputs": [],
   "source": []
  },
  {
   "cell_type": "code",
   "execution_count": 300,
   "id": "32975e96",
   "metadata": {},
   "outputs": [],
   "source": [
    "# Q.8) After setting the filters scrape first 10 laptops data.\n",
    "# Importing all required libraries\n",
    "\n",
    "\n",
    "import selenium\n",
    "from selenium import webdriver\n",
    "import pandas as pd\n",
    "import warnings\n",
    "warnings.filterwarnings('ignore')"
   ]
  },
  {
   "cell_type": "code",
   "execution_count": 301,
   "id": "ec60e0f5",
   "metadata": {},
   "outputs": [],
   "source": [
    "# Connecting to web driver\n",
    "\n",
    "driver=webdriver.Chrome('chromedriver.exe')"
   ]
  },
  {
   "cell_type": "code",
   "execution_count": 302,
   "id": "582eea6e",
   "metadata": {},
   "outputs": [],
   "source": [
    "url=\"https://www.amazon.in/\"\n",
    "driver.get(url)"
   ]
  },
  {
   "cell_type": "code",
   "execution_count": 303,
   "id": "77e49823",
   "metadata": {},
   "outputs": [],
   "source": [
    "# finding web element for searching item\n",
    "\n",
    "search_item=driver.find_element_by_xpath('/html/body/div[1]/header/div/div[1]/div[2]/div/form/div[2]/div[1]/input')"
   ]
  },
  {
   "cell_type": "code",
   "execution_count": 304,
   "id": "e1757423",
   "metadata": {},
   "outputs": [],
   "source": [
    "# entering value to be search in search bar\n",
    "\n",
    "search_item.send_keys(\"Laptop\")"
   ]
  },
  {
   "cell_type": "code",
   "execution_count": 305,
   "id": "2d144f25",
   "metadata": {},
   "outputs": [],
   "source": [
    "\n",
    "# clicking on search button for finding item\n",
    "\n",
    "search_btn=driver.find_element_by_xpath('/html/body/div[1]/header/div/div[1]/div[2]/div/form/div[3]/div/span/input')\n",
    "search_btn.click()"
   ]
  },
  {
   "cell_type": "code",
   "execution_count": 306,
   "id": "af0934ff",
   "metadata": {},
   "outputs": [],
   "source": [
    "\n",
    "\n",
    "# finding and clicking web element to filter Laptops for CPU intel i7\n",
    "\n",
    "\n",
    "filter_cpu_check=driver.find_element_by_xpath('/html/body/div[1]/div[2]/div[1]/div[2]/div/div[3]/span/div[1]/span/div/div/div[5]/ul[1]/li[12]/span/a/div/label/i')\n",
    "filter_cpu_check.click()"
   ]
  },
  {
   "cell_type": "code",
   "execution_count": 307,
   "id": "70a62cc0",
   "metadata": {},
   "outputs": [
    {
     "ename": "IndexError",
     "evalue": "list index out of range",
     "output_type": "error",
     "traceback": [
      "\u001b[1;31m---------------------------------------------------------------------------\u001b[0m",
      "\u001b[1;31mIndexError\u001b[0m                                Traceback (most recent call last)",
      "\u001b[1;32m<ipython-input-307-fde654071271>\u001b[0m in \u001b[0;36m<module>\u001b[1;34m\u001b[0m\n\u001b[0;32m     28\u001b[0m \u001b[1;33m\u001b[0m\u001b[0m\n\u001b[1;32m---> 29\u001b[1;33m         \u001b[0mdriver\u001b[0m\u001b[1;33m.\u001b[0m\u001b[0mget\u001b[0m\u001b[1;33m(\u001b[0m\u001b[0mnxt_button\u001b[0m\u001b[1;33m[\u001b[0m\u001b[1;36m1\u001b[0m\u001b[1;33m]\u001b[0m\u001b[1;33m.\u001b[0m\u001b[0mget_attribute\u001b[0m\u001b[1;33m(\u001b[0m\u001b[1;34m'href'\u001b[0m\u001b[1;33m)\u001b[0m\u001b[1;33m)\u001b[0m\u001b[1;31m#getting the link from the list for next page\u001b[0m\u001b[1;33m\u001b[0m\u001b[1;33m\u001b[0m\u001b[0m\n\u001b[0m\u001b[0;32m     30\u001b[0m \u001b[1;33m\u001b[0m\u001b[0m\n",
      "\u001b[1;31mIndexError\u001b[0m: list index out of range",
      "\nDuring handling of the above exception, another exception occurred:\n",
      "\u001b[1;31mIndexError\u001b[0m                                Traceback (most recent call last)",
      "\u001b[1;32m<ipython-input-307-fde654071271>\u001b[0m in \u001b[0;36m<module>\u001b[1;34m\u001b[0m\n\u001b[0;32m     31\u001b[0m     \u001b[1;32mexcept\u001b[0m\u001b[1;33m:\u001b[0m\u001b[1;33m\u001b[0m\u001b[1;33m\u001b[0m\u001b[0m\n\u001b[0;32m     32\u001b[0m \u001b[1;33m\u001b[0m\u001b[0m\n\u001b[1;32m---> 33\u001b[1;33m         \u001b[0mdriver\u001b[0m\u001b[1;33m.\u001b[0m\u001b[0mget\u001b[0m\u001b[1;33m(\u001b[0m\u001b[0mnxt_button\u001b[0m\u001b[1;33m[\u001b[0m\u001b[1;36m0\u001b[0m\u001b[1;33m]\u001b[0m\u001b[1;33m.\u001b[0m\u001b[0mget_attribute\u001b[0m\u001b[1;33m(\u001b[0m\u001b[1;34m'href'\u001b[0m\u001b[1;33m)\u001b[0m\u001b[1;33m)\u001b[0m\u001b[1;33m\u001b[0m\u001b[1;33m\u001b[0m\u001b[0m\n\u001b[0m",
      "\u001b[1;31mIndexError\u001b[0m: list index out of range"
     ]
    }
   ],
   "source": [
    "# extracting  laptop ratings ,title, price  by navigating through pages\n",
    "\n",
    "start=0\n",
    "end=3\n",
    "rating=[]\n",
    "title=[]\n",
    "price=[]\n",
    "\n",
    "for page in range(start,end):#for loop for scrapping 5 page\n",
    "    rating_tags=driver.find_elements_by_xpath('/html/body/div[1]/div[2]/div[1]/div[1]/div/span[3]/div[2]/div[2]/div/span/div/div/div/div/div[2]/div[2]/div/div/div[1]/h2/a/span') #scraping rating from the xpath\n",
    "    for i in rating_tags:\n",
    "        rating.append(i.text)#appending the rating in rating list\n",
    "    rating_tags=[]\n",
    "    \n",
    "    title_tags=driver.find_elements_by_xpath('/html/body/div[1]/div[2]/div[1]/div[1]/div/span[3]/div[2]/div[2]/div/span/div/div/div/div/div[2]/div[2]/div/div/div[2]/div/span[1]/span/a/i[1]') #scraping review summary elements from the xpath\n",
    "    for i in title_tags:\n",
    "        title.append(i.text)#appending the review summary in rating list\n",
    "    title_tags=[]\n",
    "    \n",
    "    price_tags=driver.find_elements_by_xpath('/html/body/div[1]/div[2]/div[1]/div[1]/div/span[3]/div[2]/div[6]/div/span/div/div/div[2]/div[2]/div/div/div[3]/div[1]/div/div[1]/div[2]/a/span[1]/span[2]/span[2]') #scraping full review element from the xpath\n",
    "    for i in full_rev_tags:\n",
    "        price.append(i.text)#appending the full review in rating list\n",
    "    price_tags=[]\n",
    "    \n",
    "    nxt_button=driver.find_elements_by_xpath('/html/body/div[1]/div[2]/div[1]/div[1]/div/span[3]/div[2]/div[33]/span/div/div/ul/li[7]/a')#scraping the list of buttons from the page\n",
    "\n",
    "    try:\n",
    "\n",
    "        driver.get(nxt_button[1].get_attribute('href'))#getting the link from the list for next page\n",
    "\n",
    "    except:\n",
    "\n",
    "        driver.get(nxt_button[0].get_attribute('href'))\n"
   ]
  },
  {
   "cell_type": "code",
   "execution_count": null,
   "id": "e1a06769",
   "metadata": {},
   "outputs": [],
   "source": []
  },
  {
   "cell_type": "code",
   "execution_count": null,
   "id": "a0a4ef4b",
   "metadata": {},
   "outputs": [],
   "source": [
    "# Q.9 ) scrape company name, No. of days ago when job was posted, Rating of the company. for data scientist role in Noida \n",
    "# from ambitionbox.com\n",
    "\n",
    "import selenium\n",
    "from selenium import webdriver\n",
    "import pandas as pd\n",
    "import warnings\n",
    "warnings.filterwarnings('ignore')"
   ]
  },
  {
   "cell_type": "code",
   "execution_count": 312,
   "id": "41cece0f",
   "metadata": {},
   "outputs": [],
   "source": [
    "# Connecting to web driver\n",
    "\n",
    "driver=webdriver.Chrome('chromedriver.exe')"
   ]
  },
  {
   "cell_type": "code",
   "execution_count": 313,
   "id": "dde6af6e",
   "metadata": {},
   "outputs": [],
   "source": [
    "url=\"https://www.ambitionbox.com/\"\n",
    "driver.get(url)"
   ]
  },
  {
   "cell_type": "code",
   "execution_count": 314,
   "id": "a5093193",
   "metadata": {},
   "outputs": [],
   "source": [
    "# finding web element for searching item\n",
    "\n",
    "search_item=driver.find_element_by_xpath('/html/body/section[1]/div/div[2]/form/span/input')"
   ]
  },
  {
   "cell_type": "code",
   "execution_count": 315,
   "id": "c0d5b13d",
   "metadata": {},
   "outputs": [],
   "source": [
    "# entering value to be search in search bar\n",
    "\n",
    "search_item.send_keys('Data Scientist')"
   ]
  },
  {
   "cell_type": "code",
   "execution_count": 316,
   "id": "3b5614a8",
   "metadata": {},
   "outputs": [],
   "source": [
    "\n",
    "# clicking on search button for finding item\n",
    "\n",
    "search_btn=driver.find_element_by_xpath('/html/body/section[1]/div/div[2]/form/div[2]/input')\n",
    "search_btn.click()"
   ]
  },
  {
   "cell_type": "code",
   "execution_count": null,
   "id": "b6bf3936",
   "metadata": {},
   "outputs": [],
   "source": [
    "# Not getting the desired page for ambitionbox.com to choose location"
   ]
  }
 ],
 "metadata": {
  "kernelspec": {
   "display_name": "Python 3",
   "language": "python",
   "name": "python3"
  },
  "language_info": {
   "codemirror_mode": {
    "name": "ipython",
    "version": 3
   },
   "file_extension": ".py",
   "mimetype": "text/x-python",
   "name": "python",
   "nbconvert_exporter": "python",
   "pygments_lexer": "ipython3",
   "version": "3.8.8"
  }
 },
 "nbformat": 4,
 "nbformat_minor": 5
}
