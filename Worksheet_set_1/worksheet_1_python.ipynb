{
 "cells": [
  {
   "cell_type": "code",
   "execution_count": null,
   "id": "3deab8f0",
   "metadata": {},
   "outputs": [],
   "source": [
    "#program to find the factorial of a number\n",
    "\n",
    "a=int(input(\"enter the number to find a factorial \"))\n",
    "b,p=1,1\n",
    "while(b<=a):\n",
    "    p=p*b\n",
    "    b=b+1\n",
    "print(\"factorial of a is = \",p)"
   ]
  },
  {
   "cell_type": "code",
   "execution_count": null,
   "id": "44ebdde2",
   "metadata": {},
   "outputs": [],
   "source": []
  },
  {
   "cell_type": "code",
   "execution_count": null,
   "id": "cfcb85df",
   "metadata": {},
   "outputs": [],
   "source": []
  },
  {
   "cell_type": "code",
   "execution_count": null,
   "id": "7aa1290b",
   "metadata": {},
   "outputs": [],
   "source": [
    "#program to find whether a number is prime or composite\n",
    "\n",
    "x = int(input(\"Enter any number : \"))\n",
    "if x > 1:\n",
    "    for i in range(2, x):\n",
    "         if (x % i) == 0:\n",
    "            print(x, \"is not a prime number\")\n",
    "            break\n",
    "    else:\n",
    "            print(x, \"is a prime number\")\n",
    "elif x == 0:\n",
    "               print(x, \"is a neither prime nor composite number\")\n",
    "elif x == 1:\n",
    "               print(x, \"is a neither prime nor composite number\")\n",
    "else:\n",
    "\t    print(x, \"is not a prime number ,it is a composite number\")"
   ]
  },
  {
   "cell_type": "code",
   "execution_count": null,
   "id": "f79ea50a",
   "metadata": {},
   "outputs": [],
   "source": []
  },
  {
   "cell_type": "code",
   "execution_count": null,
   "id": "283213cc",
   "metadata": {},
   "outputs": [],
   "source": [
    "#program to check whether a given string is pallindrome or not\n",
    "\n",
    "str1=input(\"enter any string to check whether it is pallindrome or not\")\n",
    "print(str1)\n",
    "l=len(str1)\n",
    "str2=str1[::-1]\n",
    "if(str1==str2):\n",
    "    print(\"string is PALLINDROME\")\n",
    "else:\n",
    "    print(\"string is NOT PALLINDROME\")\n",
    "\n"
   ]
  },
  {
   "cell_type": "code",
   "execution_count": null,
   "id": "5e6bf1ab",
   "metadata": {},
   "outputs": [],
   "source": []
  },
  {
   "cell_type": "code",
   "execution_count": null,
   "id": "653a1a43",
   "metadata": {},
   "outputs": [],
   "source": [
    "#program to get the third side of a rigth angled traingle from two given sides\n",
    "\n",
    "from math import sqrt\n",
    "print('-----------  Assume the sides are a, b, c and c is the hypotenuse and a,b are adjacent sides ----------- ')\n",
    "\n",
    "x=input(\"enter the side to find out of a,b,c : \")\n",
    "\n",
    "if(x=='c'):\n",
    "    a=int(input(\"enter any one adjacent side of a triangle\"))\n",
    "    b=int(input(\"enter other adjacent side of a triangle\"))\n",
    "    c=sqrt(a*a+b*b)\n",
    "    print(\"hypotenuse of the triangle = \",c)\n",
    "    \n",
    "elif(x=='a'):\n",
    "     c=int(input(\"enter hypotenuse side of a triangle\"))\n",
    "     b=int(input(\"enter adjacent side of a triangle\"))\n",
    "     a=sqrt(c*c-b*b)\n",
    "     print(\"third side is \",a)\n",
    "    \n",
    "elif(x=='b'):\n",
    "     c=int(input(\"enter hypotenuse side of a triangle\"))\n",
    "     a=int(input(\"enter adjacent side of a triangle\"))\n",
    "     b=sqrt(c*c-a*a)\n",
    "     print(\"third side is \",b)\n",
    "        \n",
    "else:\n",
    "    print(\"invalid input\")\n",
    "\n"
   ]
  },
  {
   "cell_type": "code",
   "execution_count": null,
   "id": "854a38ab",
   "metadata": {},
   "outputs": [],
   "source": []
  },
  {
   "cell_type": "code",
   "execution_count": null,
   "id": "48331668",
   "metadata": {},
   "outputs": [],
   "source": [
    "# program to print the frequency of each of the characters present in a given string.\n",
    "\n",
    "import string\n",
    "a_string =string.ascii_uppercase\n",
    "\n",
    "s=input(\"enter a string in capital letters to find the frequency of each character : \")\n",
    "list1=list(s)\n",
    "print(list1)\n",
    "a_list=list(a_string)\n",
    "print(a_list)\n",
    "\n",
    "\n",
    "for x in a_list:\n",
    "    b=0\n",
    "    for i in list1:\n",
    "            if(x==i):\n",
    "                b=b+1\n",
    "    if(b>0):\n",
    "        print(\" frequency of \",x ,\" in string is : \", b)\n",
    "    "
   ]
  },
  {
   "cell_type": "code",
   "execution_count": null,
   "id": "7d83b621",
   "metadata": {},
   "outputs": [],
   "source": []
  }
 ],
 "metadata": {
  "kernelspec": {
   "display_name": "Python 3",
   "language": "python",
   "name": "python3"
  },
  "language_info": {
   "codemirror_mode": {
    "name": "ipython",
    "version": 3
   },
   "file_extension": ".py",
   "mimetype": "text/x-python",
   "name": "python",
   "nbconvert_exporter": "python",
   "pygments_lexer": "ipython3",
   "version": "3.8.8"
  }
 },
 "nbformat": 4,
 "nbformat_minor": 5
}
